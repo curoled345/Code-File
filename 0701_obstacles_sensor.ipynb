{
  "nbformat": 4,
  "nbformat_minor": 0,
  "metadata": {
    "colab": {
      "provenance": [],
      "authorship_tag": "ABX9TyPa6bv7r70RPVqu8nx80awa",
      "include_colab_link": true
    },
    "kernelspec": {
      "name": "python3",
      "display_name": "Python 3"
    },
    "language_info": {
      "name": "python"
    }
  },
  "cells": [
    {
      "cell_type": "markdown",
      "metadata": {
        "id": "view-in-github",
        "colab_type": "text"
      },
      "source": [
        "<a href=\"https://colab.research.google.com/github/curoled345/Code-File/blob/main/0701_obstacles_sensor.ipynb\" target=\"_parent\"><img src=\"https://colab.research.google.com/assets/colab-badge.svg\" alt=\"Open In Colab\"/></a>"
      ]
    },
    {
      "cell_type": "markdown",
      "source": [
        "- 장애물 변수 위치 설정"
      ],
      "metadata": {
        "id": "AXr4C-JjhEW8"
      }
    },
    {
      "cell_type": "code",
      "source": [
        "obstacles = { \"wall\": {\"x\": 0, \"y\": 2},\n",
        "              \"tree\": {\"x\": 1, \"y\": 3},\n",
        "              \"rock\": {\"x\": 2, \"y\": 4} }"
      ],
      "metadata": {
        "id": "OMmkF_UBc0Wx"
      },
      "execution_count": 1,
      "outputs": []
    },
    {
      "cell_type": "markdown",
      "source": [
        "#1. 방향 센서의 기본값 설정 (or 센서 초기화)"
      ],
      "metadata": {
        "id": "IBPczwp2hKQV"
      }
    },
    {
      "cell_type": "code",
      "execution_count": 2,
      "metadata": {
        "colab": {
          "base_uri": "https://localhost:8080/"
        },
        "id": "QgAQHNuKYbaE",
        "outputId": "6ed079a6-1f65-42ae-c79d-b947fa9357d3"
      },
      "outputs": [
        {
          "output_type": "stream",
          "name": "stdout",
          "text": [
            "센서 기본값 설정\n"
          ]
        },
        {
          "output_type": "execute_result",
          "data": {
            "text/plain": [
              "{'앞': 15.0, '왼쪽': 15.0, '오른쪽': 15.0}"
            ]
          },
          "metadata": {},
          "execution_count": 2
        }
      ],
      "source": [
        "def init_sensors():\n",
        "    sensors = {\n",
        "        \"앞\": 15.0,\n",
        "        \"왼쪽\": 15.0,\n",
        "        \"오른쪽\": 15.0\n",
        "    }\n",
        "    print(\"센서 기본값 설정\")\n",
        "    return sensors\n",
        "\n",
        "init_sensors()"
      ]
    },
    {
      "cell_type": "markdown",
      "source": [
        "#2. 앞, 왼, 오 방향의 스캔 함수"
      ],
      "metadata": {
        "id": "9-gbAkoqhPjV"
      }
    },
    {
      "cell_type": "markdown",
      "source": [
        "- 앞 스캔 함수"
      ],
      "metadata": {
        "id": "KRqrJQlqiRDy"
      }
    },
    {
      "cell_type": "code",
      "source": [
        "def scan_front(x, y, obstacles, sensors):\n",
        "    print(\"앞 장애물 스캔 시작\")\n",
        "\n",
        "    if (x, y + 1) in obstacles:\n",
        "        print(\"1칸 앞, 장애물 발견\")\n",
        "        sensors[\"앞\"] = 1.0\n",
        "    elif (x, y + 2) in obstacles:\n",
        "        print(\"2칸 앞, 장애물 발견\")\n",
        "        sensors[\"앞\"] = 2.0\n",
        "    elif (x, y + 3) in obstacles:\n",
        "        print(\"3칸 앞, 장애물 발견\")\n",
        "        sensors[\"앞\"] = 3.0\n",
        "    else:\n",
        "        print(\"앞에 장애물 없음\")\n",
        "        sensors[\"앞\"] = 15.0\n",
        "\n",
        "    print(\"앞 스캔 완료 :\", sensors[\"앞\"])"
      ],
      "metadata": {
        "id": "KpI6wqSTakVD"
      },
      "execution_count": 3,
      "outputs": []
    },
    {
      "cell_type": "markdown",
      "source": [
        "- 왼쪽 스캔 함수"
      ],
      "metadata": {
        "id": "qu2ODsnYiWVx"
      }
    },
    {
      "cell_type": "code",
      "source": [
        "def scan_left(x, y, obstacles, sensors):\n",
        "    print(\"왼쪽 스캔 시작\")\n",
        "\n",
        "    if (x - 1, y) in obstacles:\n",
        "        print(\"1칸 왼쪽, 장애물 발견\")\n",
        "        sensors[\"왼쪽\"] = 1.0\n",
        "    elif (x-2, y) in obstacles:\n",
        "        print(\"2칸 왼쪽, 장애물 발견\")\n",
        "        sensors[\"왼쪽\"] = 2.0\n",
        "    elif (x-3, y) in obstacles:\n",
        "        print(\"3칸 왼쪽, 장애물 발견\")\n",
        "        sensors[\"왼쪽\"] = 3.0\n",
        "    else:\n",
        "        print(\"왼쪽에 장애물 없음\")\n",
        "        sensors[\"왼쪽\"] = 15.0\n",
        "\n",
        "    print(\"왼쪽 스캔 완료 :\", sensors[\"왼쪽\"])"
      ],
      "metadata": {
        "id": "C6FI-dkiakXg"
      },
      "execution_count": 4,
      "outputs": []
    },
    {
      "cell_type": "markdown",
      "source": [
        "- 오른쪽 스캔 함수"
      ],
      "metadata": {
        "id": "AC0tmd3oiaUI"
      }
    },
    {
      "cell_type": "code",
      "source": [
        "def scan_right(x, y, obstacles, sensors):\n",
        "    print(\"오른쪽 스캔 시작\")\n",
        "\n",
        "    if (x+1, y) in obstacles:\n",
        "        print(\"1칸 오른쪽, 장애물 발견\")\n",
        "        sensors[\"오른쪽\"] = 1.0\n",
        "    elif (x+2, y) in obstacles:\n",
        "        print(\"2칸 오른쪽, 장애물 발견\")\n",
        "        sensors[\"오른쪽\"] = 2.0\n",
        "    elif (x+3, y) in obstacles:\n",
        "        print(\"3칸 오른쪽, 장애물 발견\")\n",
        "        sensors[\"오른쪽\"] = 3.0\n",
        "    else:\n",
        "        print(\"오른쪽에 장애물 없음\")\n",
        "        sensors[\"오른쪽\"] = 15.0\n",
        "\n",
        "    print(\"오른쪽 스캔 완료 :\", sensors[\"오른쪽\"])"
      ],
      "metadata": {
        "id": "vWBgfZg4akkr"
      },
      "execution_count": 5,
      "outputs": []
    },
    {
      "cell_type": "markdown",
      "source": [
        "#3. 센서 데이터 업데이트 함수"
      ],
      "metadata": {
        "id": "u_I_oGUpiAxX"
      }
    },
    {
      "cell_type": "code",
      "source": [
        "def update_sensor_data(position, obstacles):\n",
        "    print(\"센서 업데이트 시작\")\n",
        "\n",
        "    x = position[\"x\"]\n",
        "    y = position[\"y\"]\n",
        "\n",
        "    print(\"현위치 추출 완료\")\n",
        "    print(f\"현재 좌표 : x = {x}, y = {y}\")\n",
        "\n",
        "    sensors = init_sensors()\n",
        "    print(\"센서 초기화 완료\")\n",
        "\n",
        "    scan_front(x, y, obstacles, sensors)\n",
        "    scan_left(x, y, obstacles, sensors)\n",
        "    scan_right(x, y, obstacles, sensors)\n",
        "\n",
        "    print(\"센서 업데이트 완료\")\n",
        "    return sensors"
      ],
      "metadata": {
        "id": "G629_vA8iPxO"
      },
      "execution_count": 6,
      "outputs": []
    },
    {
      "cell_type": "markdown",
      "source": [
        "# 4.  장애물 감지 함수\n"
      ],
      "metadata": {
        "id": "2am5rOjJwtGB"
      }
    },
    {
      "cell_type": "code",
      "source": [
        "def detect_obstacles(sensors, safe_distance):\n",
        "  print(\"장애물 감지 시작\")\n",
        "\n",
        "  print(\"입력 센서 데이터:\", sensors)\n",
        "  print(\"안전 거리 기준:\", safe_distance)\n",
        "  obstacles = []\n",
        "\n",
        "  for direction, distance in sensors. items():\n",
        "    print(f\"현재 방향 : {direction}, 거리 : {distance}\")\n",
        "\n",
        "    if distance < safe_distance:\n",
        "      print(\"장애물 감지! -> 목록 추가\")\n",
        "      obstacles. append(direction)\n",
        "    else:\n",
        "      print(\"안전 - 방해 장애물 없음\")\n",
        "\n",
        "  print(\"장애물 감지 완료\")\n",
        "  return obstacles"
      ],
      "metadata": {
        "id": "IDhMp1mT75Wx"
      },
      "execution_count": 7,
      "outputs": []
    },
    {
      "cell_type": "markdown",
      "source": [
        "#5. 센서 데이터 실행"
      ],
      "metadata": {
        "id": "xdHhKzuAzQRe"
      }
    },
    {
      "cell_type": "code",
      "source": [
        "def decide_action(obstacles):\n",
        "  print(\"장애물 정보 입력받음\", obstacles)\n",
        "  if len(obstacles) == 0:\n",
        "    action = \"직진\"\n",
        "    print(\"장애물 없음\")\n",
        "  elif \"앞\" in obstacles:\n",
        "    print(\"앞에 장애물\")\n",
        "    if \"왼쪽\" not in obstacles and \"오른쪽\" not in obstacles:\n",
        "      action = \"좌회전 또는 우회전\"\n",
        "      print(\"왼쪽 또는 오른쪽 안전\")\n",
        "    elif \"왼쪽\" not in obstacles:\n",
        "      action = \"좌회전\"\n",
        "      print(\"왼쪽 안전\")\n",
        "    elif \"오른쪽\" not in obstacles:\n",
        "      action = \"우회전\"\n",
        "      print(\"오른쪽 안전\")\n",
        "    else:\n",
        "      action = \"정지\"\n",
        "      print(\"모든 방향 위험\")\n",
        "  else:\n",
        "    action = \"주의해서 직진\"\n",
        "    print(\"앞은 안전, 옆만 위험\")\n",
        "\n",
        "  print(\"장애물 감지 완료:\", action)\n",
        "  return action"
      ],
      "metadata": {
        "id": "e5i5ThcH4vlN"
      },
      "execution_count": 8,
      "outputs": []
    }
  ]
}